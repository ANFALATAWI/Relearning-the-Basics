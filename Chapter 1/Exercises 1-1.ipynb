{
 "metadata": {
  "language_info": {
   "codemirror_mode": {
    "name": "ipython",
    "version": 3
   },
   "file_extension": ".py",
   "mimetype": "text/x-python",
   "name": "python",
   "nbconvert_exporter": "python",
   "pygments_lexer": "ipython3",
   "version": "3.8.5-final"
  },
  "orig_nbformat": 2,
  "kernelspec": {
   "name": "python385jvsc74a57bd036c5213f13ec082458e842d6796e9a3431b886a2d30ddb62bedc9888415e454c",
   "display_name": "Python 3.8.5 64-bit ('base': conda)"
  }
 },
 "nbformat": 4,
 "nbformat_minor": 2,
 "cells": [
  {
   "source": [
    "# Chapter 1.1 Exercises\n",
    "## Q.4.\n",
    "Design an algorithm for computing $ \\lfloor \\sqrt{n} \\rfloor$ for any positive integer n. Besides assignment and comparison, your algorithm may only use the four basic arithmetical operations."
   ],
   "cell_type": "markdown",
   "metadata": {}
  },
  {
   "cell_type": "code",
   "execution_count": 2,
   "metadata": {},
   "outputs": [],
   "source": [
    "def floor_sqrt(n):\n",
    "    xi = n\n",
    "    precision = 10 ** (-10)\n",
    "\n",
    "    while abs(n - xi * xi) > precision:\n",
    "        xi = (xi + n / xi) / 2\n",
    "        \n",
    "    return int(xi)"
   ]
  },
  {
   "cell_type": "code",
   "execution_count": 3,
   "metadata": {},
   "outputs": [
    {
     "output_type": "execute_result",
     "data": {
      "text/plain": [
       "5"
      ]
     },
     "metadata": {},
     "execution_count": 3
    }
   ],
   "source": [
    "floor_sqrt(26)"
   ]
  },
  {
   "source": [
    "Pretty straight-forward implementation of a mathematical rule."
   ],
   "cell_type": "markdown",
   "metadata": {}
  },
  {
   "source": [
    "## Q.5.\n",
    "Design an algorithm to find all the common elements in two sorted lists of numbers. For example, for the lists 2, 5, 5, 5 and 2, 2, 3, 5, 5, 7, the output should be 2, 5, 5. What is the maximum number of comparisons your algorithm makes if the lengths of the two given lists are $m$ and $n$, respectively?"
   ],
   "cell_type": "markdown",
   "metadata": {}
  },
  {
   "cell_type": "code",
   "execution_count": 4,
   "metadata": {},
   "outputs": [],
   "source": [
    "def find_common(A, B):\n",
    "    \"\"\"\n",
    "    Find common elements in arrays A & B.\n",
    "    Args:\n",
    "        A: Array of int\n",
    "        B: Array of int\n",
    "    Returns:\n",
    "        common: Array of common ints between A & B.\n",
    "    \"\"\"\n",
    "    # Copy parameters so we don't affect the original arrays.\n",
    "    A = A.copy()\n",
    "    B = B.copy()\n",
    "\n",
    "    common = []\n",
    "    \n",
    "    for i in range(len(A)):\n",
    "        number1 = A[i]\n",
    "        for j in range(len(B)):\n",
    "            number2 = B[j]\n",
    "            if number2: # if we haven't matched this number before\n",
    "                if number1 == number2:\n",
    "                    common.append(number1)\n",
    "                    B[j] = None # match this number \n",
    "                    continue # continue so we don't match other occurnces of number\n",
    "    return common"
   ]
  },
  {
   "source": [
    "A simple demo on the use of `None` is python:"
   ],
   "cell_type": "markdown",
   "metadata": {}
  },
  {
   "cell_type": "code",
   "execution_count": 5,
   "metadata": {},
   "outputs": [],
   "source": [
    "if None:\n",
    "    print(\"None also works as a false value!\")"
   ]
  },
  {
   "cell_type": "code",
   "execution_count": 6,
   "metadata": {},
   "outputs": [
    {
     "output_type": "stream",
     "name": "stdout",
     "text": [
      "See!\n"
     ]
    }
   ],
   "source": [
    "if True:\n",
    "    print(\"See!\")"
   ]
  },
  {
   "source": [
    "### Testing time!\n",
    "Always start with very simple test cases"
   ],
   "cell_type": "markdown",
   "metadata": {}
  },
  {
   "cell_type": "code",
   "execution_count": 7,
   "metadata": {},
   "outputs": [
    {
     "output_type": "execute_result",
     "data": {
      "text/plain": [
       "[1]"
      ]
     },
     "metadata": {},
     "execution_count": 7
    }
   ],
   "source": [
    "A = [1]\n",
    "B = [1]\n",
    "find_common(A,B)"
   ]
  },
  {
   "cell_type": "code",
   "execution_count": 8,
   "metadata": {},
   "outputs": [
    {
     "output_type": "execute_result",
     "data": {
      "text/plain": [
       "[]"
      ]
     },
     "metadata": {},
     "execution_count": 8
    }
   ],
   "source": [
    "A = [0]\n",
    "B = [1]\n",
    "find_common(A,B)"
   ]
  },
  {
   "cell_type": "code",
   "execution_count": 9,
   "metadata": {},
   "outputs": [
    {
     "output_type": "execute_result",
     "data": {
      "text/plain": [
       "[]"
      ]
     },
     "metadata": {},
     "execution_count": 9
    }
   ],
   "source": [
    "A = [0]\n",
    "B = [1,0]\n",
    "find_common(A,B)"
   ]
  },
  {
   "source": [
    "Oops. What happened here?\n",
    "\n",
    "A quick read and turns out python treats 0 weird... :"
   ],
   "cell_type": "markdown",
   "metadata": {}
  },
  {
   "cell_type": "code",
   "execution_count": 10,
   "metadata": {},
   "outputs": [],
   "source": [
    "if 0:\n",
    "    print(\"Zero also works as a false value...\")"
   ]
  },
  {
   "source": [
    "Now we can either handle the 0 case differently, or change the flag we use to treat matched values."
   ],
   "cell_type": "markdown",
   "metadata": {}
  },
  {
   "cell_type": "code",
   "execution_count": 11,
   "metadata": {},
   "outputs": [],
   "source": [
    "def find_common(A, B):\n",
    "    \"\"\"\n",
    "    Find common elements in arrays A & B.\n",
    "    Args:\n",
    "        A: Array of int\n",
    "        B: Array of int\n",
    "    Returns:\n",
    "        common: Array of common ints between A & B.\n",
    "    \"\"\"\n",
    "    # Copy parameters so we don't affect the original arrays.\n",
    "    A = A.copy()\n",
    "    B = B.copy()\n",
    "\n",
    "    common = []\n",
    "    \n",
    "    for i in range(len(A)):\n",
    "        number1 = A[i]\n",
    "        for j in range(len(B)):\n",
    "            number2 = B[j]\n",
    "            if type(number2) == int : # if we haven't matched this number before\n",
    "                if number1 == number2:\n",
    "                    common.append(number1)\n",
    "                    B[j] = None # match this number \n",
    "                    continue # continue so we don't match other occurnces of number\n",
    "    return common"
   ]
  },
  {
   "source": [
    "I changed how we check for `None` flag. The change I made is performing the check on the type of variable rather than its value. I like this method more."
   ],
   "cell_type": "markdown",
   "metadata": {}
  },
  {
   "cell_type": "code",
   "execution_count": 12,
   "metadata": {},
   "outputs": [
    {
     "output_type": "execute_result",
     "data": {
      "text/plain": [
       "[0]"
      ]
     },
     "metadata": {},
     "execution_count": 12
    }
   ],
   "source": [
    "A = [0]\n",
    "B = [1,0]\n",
    "find_common(A,B)"
   ]
  },
  {
   "source": [
    "And it passes the test the previous implementation failed."
   ],
   "cell_type": "markdown",
   "metadata": {}
  },
  {
   "source": [
    "More tests:"
   ],
   "cell_type": "markdown",
   "metadata": {}
  },
  {
   "cell_type": "code",
   "execution_count": 13,
   "metadata": {},
   "outputs": [
    {
     "output_type": "execute_result",
     "data": {
      "text/plain": [
       "[1, 2, 3, 4]"
      ]
     },
     "metadata": {},
     "execution_count": 13
    }
   ],
   "source": [
    "A = [1,2,3,4]\n",
    "B = [1,2,3,4,5]\n",
    "find_common(A,B)"
   ]
  },
  {
   "cell_type": "code",
   "execution_count": 14,
   "metadata": {},
   "outputs": [
    {
     "output_type": "execute_result",
     "data": {
      "text/plain": [
       "[1, 2, 3, 4]"
      ]
     },
     "metadata": {},
     "execution_count": 14
    }
   ],
   "source": [
    "A = [1,2,3,4,5]\n",
    "B = [1,2,3,4]\n",
    "find_common(A,B)"
   ]
  },
  {
   "cell_type": "code",
   "execution_count": 15,
   "metadata": {},
   "outputs": [
    {
     "output_type": "execute_result",
     "data": {
      "text/plain": [
       "[2, 2, 5, 5]"
      ]
     },
     "metadata": {},
     "execution_count": 15
    }
   ],
   "source": [
    "A = [2,5,5,5]\n",
    "B = [2,2,3,5,5,7]\n",
    "find_common(A,B)"
   ]
  },
  {
   "source": [
    "Oh... why did that happen? the number 2 is common once, but appeared twice.\n",
    "\n",
    "Again, a quick read and debug shows that the error is in my use of the word `continue`. What I meant, is that the search of number1 would be over and continue to the next number in $A$ (stop this loop, and continue with the outer loop), but what the current implementation did is that the search is over in this iteration, and the current loop (inner loop) will continue with the next number _in $B$_.\n",
    "\n",
    "I've actually made this mistakes quite a few times in my programs, mixing the logic of `contiunue` and `break`.\n",
    "The proper use in this case is the `break` keyword. It causes the inner loop to completly stop which exits to the outer loop, which then moves up to the next element in $A$, and that fixes the current bug.\n",
    "\n",
    "Let's try changing `continue` for `break`:"
   ],
   "cell_type": "markdown",
   "metadata": {}
  },
  {
   "cell_type": "code",
   "execution_count": 16,
   "metadata": {},
   "outputs": [
    {
     "output_type": "execute_result",
     "data": {
      "text/plain": [
       "[2, 5, 5]"
      ]
     },
     "metadata": {},
     "execution_count": 16
    }
   ],
   "source": [
    "A = [2,5,5,5]\n",
    "B = [2,2,3,5,5,7]\n",
    "common = []\n",
    "for i in range(len(A)):\n",
    "    number1 = A[i]\n",
    "    for j in range(len(B)):\n",
    "        number2 = B[j]\n",
    "        if type(number2) == int : # if we haven't matched this number before\n",
    "            if number1 == number2:\n",
    "                common.append(number1)\n",
    "                B[j] = None # match this number \n",
    "                break # continue so we don't match other occurnces of number\n",
    "common"
   ]
  },
  {
   "source": [
    "Ah! It works. Just for safety (to check I haven't broken other things) I'll re-run the previous test cases."
   ],
   "cell_type": "markdown",
   "metadata": {}
  },
  {
   "cell_type": "code",
   "execution_count": 17,
   "metadata": {},
   "outputs": [],
   "source": [
    "def find_common(A, B):\n",
    "    \"\"\"\n",
    "    Find common elements in arrays A & B.\n",
    "    Args:\n",
    "        A: Array of int\n",
    "        B: Array of int\n",
    "    Returns:\n",
    "        common: Array of common ints between A & B.\n",
    "    \"\"\"\n",
    "    # Copy parameters so we don't affect the original arrays.\n",
    "    A = A.copy()\n",
    "    B = B.copy()\n",
    "\n",
    "    common = []\n",
    "    \n",
    "    for i in range(len(A)):\n",
    "        number1 = A[i]\n",
    "        for j in range(len(B)):\n",
    "            number2 = B[j]\n",
    "            if type(number2) == int : # if we haven't matched this number before\n",
    "                if number1 == number2:\n",
    "                    common.append(number1)\n",
    "                    B[j] = None # match this number \n",
    "                    break # continue so we don't match other occurnces of number\n",
    "    return common"
   ]
  },
  {
   "cell_type": "code",
   "execution_count": 18,
   "metadata": {},
   "outputs": [
    {
     "output_type": "execute_result",
     "data": {
      "text/plain": [
       "[2, 5, 5]"
      ]
     },
     "metadata": {},
     "execution_count": 18
    }
   ],
   "source": [
    "A = [2,5,5,5]\n",
    "B = [2,2,3,5,5,7]\n",
    "find_common(A,B)"
   ]
  },
  {
   "cell_type": "code",
   "execution_count": 19,
   "metadata": {},
   "outputs": [
    {
     "output_type": "execute_result",
     "data": {
      "text/plain": [
       "[1, 2, 3, 4]"
      ]
     },
     "metadata": {},
     "execution_count": 19
    }
   ],
   "source": [
    "A = [1,2,3,4,5]\n",
    "B = [1,2,3,4]\n",
    "find_common(A,B)"
   ]
  },
  {
   "cell_type": "code",
   "execution_count": 20,
   "metadata": {},
   "outputs": [
    {
     "output_type": "execute_result",
     "data": {
      "text/plain": [
       "[1, 2, 3, 4]"
      ]
     },
     "metadata": {},
     "execution_count": 20
    }
   ],
   "source": [
    "A = [1,2,3,4]\n",
    "B = [1,2,3,4,5]\n",
    "find_common(A,B)"
   ]
  },
  {
   "cell_type": "code",
   "execution_count": 21,
   "metadata": {},
   "outputs": [
    {
     "output_type": "execute_result",
     "data": {
      "text/plain": [
       "[0]"
      ]
     },
     "metadata": {},
     "execution_count": 21
    }
   ],
   "source": [
    "A = [0]\n",
    "B = [1,0]\n",
    "find_common(A,B)"
   ]
  },
  {
   "cell_type": "code",
   "execution_count": 22,
   "metadata": {},
   "outputs": [
    {
     "output_type": "execute_result",
     "data": {
      "text/plain": [
       "[]"
      ]
     },
     "metadata": {},
     "execution_count": 22
    }
   ],
   "source": [
    "A = [0]\n",
    "B = [1]\n",
    "find_common(A,B)"
   ]
  },
  {
   "cell_type": "code",
   "execution_count": 23,
   "metadata": {},
   "outputs": [
    {
     "output_type": "execute_result",
     "data": {
      "text/plain": [
       "[1]"
      ]
     },
     "metadata": {},
     "execution_count": 23
    }
   ],
   "source": [
    "A = [1]\n",
    "B = [1,1,1,1,1]\n",
    "find_common(A,B)"
   ]
  },
  {
   "cell_type": "code",
   "execution_count": 24,
   "metadata": {},
   "outputs": [
    {
     "output_type": "execute_result",
     "data": {
      "text/plain": [
       "[1]"
      ]
     },
     "metadata": {},
     "execution_count": 24
    }
   ],
   "source": [
    "A = [1,1,1,1,1]\n",
    "B = [1]\n",
    "find_common(A,B)"
   ]
  },
  {
   "source": [
    "Ok, enough tests. I think this is good enough. Next.\n",
    "\n",
    "The other part of the question asks about the maximum number of comparisons performed for Arrays of the size $m$ and $n$ respectivly.\n",
    "\n",
    "In this implementation, the maximum number of comparisons would happen in the _worst case scenario_. That is, if there are no common elements in $A$ and $B$. In that case, intuitvely, the number would be $m*n$, because we have to make sure *no* element exists in neither arrays, which happens by checking _every_ element in $A$ against _every_ element in $B$.\n",
    "\n",
    "Let's see if my implementation satisfies that intuitive conclusion."
   ],
   "cell_type": "markdown",
   "metadata": {}
  },
  {
   "cell_type": "code",
   "execution_count": 25,
   "metadata": {},
   "outputs": [],
   "source": [
    "def find_common_counter(A, B):\n",
    "    \"\"\"\n",
    "    Find common elements in arrays A & B and print comparison operations' count.\n",
    "    Args:\n",
    "        A: Array of int\n",
    "        B: Array of int\n",
    "    Returns:\n",
    "        common: Array of common ints between A & B.\n",
    "    \"\"\"\n",
    "    # Copy parameters so we don't affect the original arrays.\n",
    "    A = A.copy()\n",
    "    B = B.copy()\n",
    "\n",
    "    common = []\n",
    "    comparisons = 0\n",
    "    for i in range(len(A)):\n",
    "        number1 = A[i]\n",
    "        for j in range(len(B)):\n",
    "            number2 = B[j]\n",
    "            if type(number2) == int : # if we haven't matched this number before\n",
    "                comparisons = comparisons + 1\n",
    "                if number1 == number2:\n",
    "                    common.append(number1)\n",
    "                    B[j] = None # match this number \n",
    "                    break # continue so we don't match other occurnces of number\n",
    "    print(\"Number of comparisons for arrays of length \" + str(len(A)) + \" and \" + str(len(B)) + \" is \" + str(comparisons))\n",
    "    return common"
   ]
  },
  {
   "source": [
    "I modified the implementation to count and print number of comparison operations.\n",
    "\n",
    "Now to test the _maximum_ number of comparisons, that means to test the _worst case_ scenario: a scenario where no element is common between the two arrays."
   ],
   "cell_type": "markdown",
   "metadata": {}
  },
  {
   "cell_type": "code",
   "execution_count": 26,
   "metadata": {},
   "outputs": [
    {
     "output_type": "stream",
     "name": "stdout",
     "text": [
      "Number of comparisons for arrays of length 4 and 4 is 16\n"
     ]
    },
    {
     "output_type": "execute_result",
     "data": {
      "text/plain": [
       "[]"
      ]
     },
     "metadata": {},
     "execution_count": 26
    }
   ],
   "source": [
    "A = [1,2,3,4] # n = 4\n",
    "B = [5,6,7,8] # m = 4\n",
    "find_common_counter(A,B)"
   ]
  },
  {
   "cell_type": "code",
   "execution_count": 27,
   "metadata": {},
   "outputs": [
    {
     "output_type": "stream",
     "name": "stdout",
     "text": [
      "Number of comparisons for arrays of length 3 and 5 is 15\n"
     ]
    },
    {
     "output_type": "execute_result",
     "data": {
      "text/plain": [
       "[]"
      ]
     },
     "metadata": {},
     "execution_count": 27
    }
   ],
   "source": [
    "A = [1,2,3] # n = 3\n",
    "B = [4,5,6,7,8] # n = 5\n",
    "find_common_counter(A,B)"
   ]
  },
  {
   "source": [
    "Now, this is a straight forward naive implementation of a method to find common elements in an two arrays. I'm sure there are better faster methods, perhaps ones where maximum operations is $max(m,n)$. But I'm not writing it today."
   ],
   "cell_type": "markdown",
   "metadata": {}
  },
  {
   "source": [
    "## Q.6\n",
    "Find gcd(31415, 14142) by applying Euclid’s algorithm.\n",
    "\n",
    "Recall [this](https://nbviewer.jupyter.org/github/ANFALATAWI/Relearning-the-Basics/blob/main/Chapter%201/1-1.ipynb) Notebook of the lesson where I implemented Euclid's algorithm. I'll be using the counter and loop implementation."
   ],
   "cell_type": "markdown",
   "metadata": {}
  },
  {
   "cell_type": "code",
   "execution_count": 28,
   "metadata": {},
   "outputs": [],
   "source": [
    "def gcd_loop_counter(m,n):\n",
    "    \"\"\"\n",
    "    Algorithm that returns the Greatest Common Divider of m and n using the Euclidian defintion and print iteration count.\n",
    "    m: integer\n",
    "    n: integer\n",
    "    \"\"\"\n",
    "    counter = 0\n",
    "    while n != 0:\n",
    "        r = n\n",
    "        n = m%n\n",
    "        m = r\n",
    "\n",
    "        print(\"At iteration #\" + str(counter) + \" m=\" + str(m) + \" n=\" + str(n))\n",
    "        counter = counter + 1\n",
    "    print(\">>The GCD loop ran \" + str(counter) + \" times.\")\n",
    "    return m"
   ]
  },
  {
   "cell_type": "code",
   "execution_count": 29,
   "metadata": {},
   "outputs": [
    {
     "output_type": "stream",
     "name": "stdout",
     "text": [
      "At iteration #0 m=14142 n=3131\nAt iteration #1 m=3131 n=1618\nAt iteration #2 m=1618 n=1513\nAt iteration #3 m=1513 n=105\nAt iteration #4 m=105 n=43\nAt iteration #5 m=43 n=19\nAt iteration #6 m=19 n=5\nAt iteration #7 m=5 n=4\nAt iteration #8 m=4 n=1\nAt iteration #9 m=1 n=0\n>>The GCD loop ran 10 times.\n"
     ]
    },
    {
     "output_type": "execute_result",
     "data": {
      "text/plain": [
       "1"
      ]
     },
     "metadata": {},
     "execution_count": 29
    }
   ],
   "source": [
    "gcd_loop_counter(31415,14142)"
   ]
  },
  {
   "source": [
    "This algorithm only used 9 loop operations to find the gcd of numbers that large. A truly genius algorithm."
   ],
   "cell_type": "markdown",
   "metadata": {}
  }
 ]
}