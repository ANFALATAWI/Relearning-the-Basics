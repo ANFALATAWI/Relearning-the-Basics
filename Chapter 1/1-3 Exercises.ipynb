{
 "metadata": {
  "language_info": {
   "codemirror_mode": {
    "name": "ipython",
    "version": 3
   },
   "file_extension": ".py",
   "mimetype": "text/x-python",
   "name": "python",
   "nbconvert_exporter": "python",
   "pygments_lexer": "ipython3",
   "version": "3.8.5-final"
  },
  "orig_nbformat": 2,
  "kernelspec": {
   "name": "python385jvsc74a57bd036c5213f13ec082458e842d6796e9a3431b886a2d30ddb62bedc9888415e454c",
   "display_name": "Python 3.8.5 64-bit ('base': conda)"
  }
 },
 "nbformat": 4,
 "nbformat_minor": 2,
 "cells": [
  {
   "source": [
    "# Chapter 1.1 Exercises\n",
    "## Q.1.\n",
    "Consider thea lgorithm for the sorting problem that sorts an array by counting, for each of its elements, the number of smaller elements and then uses this information to put the element in its appropriate position in the sorted array:"
   ],
   "cell_type": "markdown",
   "metadata": {}
  },
  {
   "cell_type": "code",
   "execution_count": 1,
   "metadata": {},
   "outputs": [],
   "source": [
    "def ComparisonCountingSort(array):\n",
    "    \"\"\"\n",
    "    Sorts an array by comparison counting\n",
    "    Args:\n",
    "        array: Array of int\n",
    "    Returns:\n",
    "        Sorted array\n",
    "    \"\"\"\n",
    "    # Initializing\n",
    "    length = len(array)\n",
    "    count = [0] * length\n",
    "    out = [0] * length\n",
    "    # Counting items at i less than items at j\n",
    "    for i in range(length - 1):\n",
    "        for j in range(i+1, length):\n",
    "            if array[i] < array[j]:\n",
    "                count[j] += 1\n",
    "            else:\n",
    "                count[i] += 1\n",
    "    \n",
    "    # Filling an out array using items positions\n",
    "    for i in range(length):\n",
    "        out[count[i]] = array[i]\n",
    "\n",
    "    return out\n"
   ]
  },
  {
   "cell_type": "code",
   "execution_count": 2,
   "metadata": {},
   "outputs": [
    {
     "output_type": "execute_result",
     "data": {
      "text/plain": [
       "[1, 2, 3]"
      ]
     },
     "metadata": {},
     "execution_count": 2
    }
   ],
   "source": [
    "ComparisonCountingSort([2,3,1])"
   ]
  },
  {
   "source": [
    "**a.** Apply this algorithm to sorting the list 60, 35, 81, 98, 14, 47."
   ],
   "cell_type": "markdown",
   "metadata": {}
  },
  {
   "cell_type": "code",
   "execution_count": 3,
   "metadata": {},
   "outputs": [],
   "source": [
    "def CCSort_WhiteBox(array):\n",
    "    \"\"\"\n",
    "    Sorts an array by comparison counting\n",
    "    Args:\n",
    "        array: Array of int\n",
    "    Returns:\n",
    "        Sorted array\n",
    "    \"\"\"\n",
    "    # Initializing\n",
    "    length = len(array)\n",
    "    count = [0] * length\n",
    "    out = [0] * length\n",
    "    print(\"Before starting, contents of count array: \" , count)\n",
    "    print(\"Contents of out array: \" , out)\n",
    "    print(\"Starting ***\")\n",
    "    # Counting items at i less than items at j\n",
    "    for i in range(length - 1):\n",
    "        for j in range(i+1, length):\n",
    "            if array[i] < array[j]:\n",
    "                count[j] += 1\n",
    "            else:\n",
    "                count[i] += 1\n",
    "            print(\"\\nAt i = \" + str(i) + \", at j = \" + str(j))\n",
    "            print(\"Contents of count array: \" , count)\n",
    "            print(\"Contents of out array: \" , out)\n",
    "    print(\"Finished ***\")\n",
    "    # Filling an out array using items positions\n",
    "    for i in range(length):\n",
    "        out[count[i]] = array[i]\n",
    "\n",
    "    return out"
   ]
  },
  {
   "cell_type": "code",
   "execution_count": 4,
   "metadata": {},
   "outputs": [
    {
     "output_type": "stream",
     "name": "stdout",
     "text": [
      "Before starting, contents of count array:  [0, 0, 0, 0, 0, 0]\nContents of out array:  [0, 0, 0, 0, 0, 0]\nStarting ***\n\nAt i = 0, at j = 1\nContents of count array:  [1, 0, 0, 0, 0, 0]\nContents of out array:  [0, 0, 0, 0, 0, 0]\n\nAt i = 0, at j = 2\nContents of count array:  [1, 0, 1, 0, 0, 0]\nContents of out array:  [0, 0, 0, 0, 0, 0]\n\nAt i = 0, at j = 3\nContents of count array:  [1, 0, 1, 1, 0, 0]\nContents of out array:  [0, 0, 0, 0, 0, 0]\n\nAt i = 0, at j = 4\nContents of count array:  [2, 0, 1, 1, 0, 0]\nContents of out array:  [0, 0, 0, 0, 0, 0]\n\nAt i = 0, at j = 5\nContents of count array:  [3, 0, 1, 1, 0, 0]\nContents of out array:  [0, 0, 0, 0, 0, 0]\n\nAt i = 1, at j = 2\nContents of count array:  [3, 0, 2, 1, 0, 0]\nContents of out array:  [0, 0, 0, 0, 0, 0]\n\nAt i = 1, at j = 3\nContents of count array:  [3, 0, 2, 2, 0, 0]\nContents of out array:  [0, 0, 0, 0, 0, 0]\n\nAt i = 1, at j = 4\nContents of count array:  [3, 1, 2, 2, 0, 0]\nContents of out array:  [0, 0, 0, 0, 0, 0]\n\nAt i = 1, at j = 5\nContents of count array:  [3, 1, 2, 2, 0, 1]\nContents of out array:  [0, 0, 0, 0, 0, 0]\n\nAt i = 2, at j = 3\nContents of count array:  [3, 1, 2, 3, 0, 1]\nContents of out array:  [0, 0, 0, 0, 0, 0]\n\nAt i = 2, at j = 4\nContents of count array:  [3, 1, 3, 3, 0, 1]\nContents of out array:  [0, 0, 0, 0, 0, 0]\n\nAt i = 2, at j = 5\nContents of count array:  [3, 1, 4, 3, 0, 1]\nContents of out array:  [0, 0, 0, 0, 0, 0]\n\nAt i = 3, at j = 4\nContents of count array:  [3, 1, 4, 4, 0, 1]\nContents of out array:  [0, 0, 0, 0, 0, 0]\n\nAt i = 3, at j = 5\nContents of count array:  [3, 1, 4, 5, 0, 1]\nContents of out array:  [0, 0, 0, 0, 0, 0]\n\nAt i = 4, at j = 5\nContents of count array:  [3, 1, 4, 5, 0, 2]\nContents of out array:  [0, 0, 0, 0, 0, 0]\nFinished ***\n"
     ]
    },
    {
     "output_type": "execute_result",
     "data": {
      "text/plain": [
       "[14, 35, 47, 60, 81, 98]"
      ]
     },
     "metadata": {},
     "execution_count": 4
    }
   ],
   "source": [
    "CCSort_WhiteBox([60, 35, 81, 98, 14, 47])"
   ]
  },
  {
   "source": [
    "**b.** Is this algorithm stable?\n",
    "\n",
    "No, consider how it treats the example `[1,1]`"
   ],
   "cell_type": "markdown",
   "metadata": {}
  },
  {
   "cell_type": "code",
   "execution_count": 5,
   "metadata": {},
   "outputs": [
    {
     "output_type": "stream",
     "name": "stdout",
     "text": [
      "Before starting, contents of count array:  [0, 0]\nContents of out array:  [0, 0]\nStarting ***\n\nAt i = 0, at j = 1\nContents of count array:  [1, 0]\nContents of out array:  [0, 0]\nFinished ***\n"
     ]
    },
    {
     "output_type": "execute_result",
     "data": {
      "text/plain": [
       "[1, 1]"
      ]
     },
     "metadata": {},
     "execution_count": 5
    }
   ],
   "source": [
    "CCSort_WhiteBox([1,1])"
   ]
  },
  {
   "source": [
    "**c.** Is it in-place? \n",
    "\n",
    "No, since it needs the additional arrays `out` and `count`, no this algorithm isn't in-place."
   ],
   "cell_type": "markdown",
   "metadata": {}
  },
  {
   "cell_type": "code",
   "execution_count": null,
   "metadata": {},
   "outputs": [],
   "source": []
  }
 ]
}