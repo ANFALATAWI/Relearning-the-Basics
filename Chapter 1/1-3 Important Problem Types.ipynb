{
 "metadata": {
  "language_info": {
   "codemirror_mode": {
    "name": "ipython",
    "version": 3
   },
   "file_extension": ".py",
   "mimetype": "text/x-python",
   "name": "python",
   "nbconvert_exporter": "python",
   "pygments_lexer": "ipython3",
   "version": 3
  },
  "orig_nbformat": 2
 },
 "nbformat": 4,
 "nbformat_minor": 2,
 "cells": [
  {
   "source": [
    "# Important Problem Types\n",
    "\n",
    "_This is a summary of lesson **1.3** in [An Introduction to the Design and Analysis of Algorithms by Anany Levitan](https://doc.lagout.org/science/0_Computer%20Science/2_Algorithms/Introduction%20to%20the%20Design%20and%20Analysis%20of%20Algorithms%20%283rd%20ed.%29%20%5BLevitin%202011-10-09%5D.pdf)_.\n",
    "\n",
    "In computing, there are some especially interesting problem types: incorrrect\n",
    "\n",
    "- Sorting\n",
    "- Searching\n",
    "- String Processing\n",
    "- Graph Problems\n",
    "- Combinatorial Problems\n",
    "- Geometric Problems\n",
    "- Numerical Problems\n",
    "\n",
    "An introduction to each problem type follows."
   ],
   "cell_type": "markdown",
   "metadata": {}
  },
  {
   "source": [
    "## Sorting\n",
    "<img src=\"../Assets/Sorting.png\" alt=\"Drawing\" style=\"width: 400px;\"/>\n",
    "\n",
    "\n",
    "Sorting is to rearrange items of a given list, usually using a **_key_**.\n",
    "- Sorting can aid in solving other problems like searching.\n",
    "- The current best list sorting algorithm that depends on key comparisons takes $n\\  log(n)$ operations, $n$ being list size.\n",
    "- Choosing a sorting algorithm can be a complex choice. Some sorting algorithms work better on random ordered inputs, some on almost sorted inputs. Some are better suited for lists in faster memory, some are better for lists in disk memory, and so on.\n",
    "- Two important properties of Sorting Algorithms:\n",
    "    1. **Stable**: Stable sorting algorithms preserve the relative order of two equal elements in a list.\n",
    "    <Details> In other words: if a list contains two equal elements in positions $i$ and $j$ where $i < j$, then, in the sorted list, their positions should remain such that $i' < j'$. Example: A list of students are sorted alphabetically, we now want to sort them by GPA. If we use a _stable_ sorting algorithm, the students with the equal GPAs will end up in alphabetical order in the sorted list.\n",
    "    2. **In-place**: In-place algorithms do not require extra memory or data structures to perform the sorting."
   ],
   "cell_type": "markdown",
   "metadata": {}
  },
  {
   "source": [
    "## Searching\n",
    "<img src=\"../Assets/searching.png\" alt=\"Drawing\" style=\"width: 400px;\"/>\n",
    "\n",
    "\n",
    "Searching is to find a given value called a **_search key_** in a given set.\n",
    "\n",
    "- Searching ranges from straight forward algorithms with $n$ operations to spectacular algorithms like the efficient Binary Search at $log(n)$ operations.\n",
    "- Like sorting, some algorithms are simple but slow, and some are fast but require sorted inputs."
   ],
   "cell_type": "markdown",
   "metadata": {}
  },
  {
   "source": [
    "## String Processing\n",
    "<img src=\"../Assets/String-processing-2.png\" alt=\"Drawing\" style=\"width: 400px;\"/>\n",
    "\n",
    "\n",
    "\n",
    "A string is a sequence of characters from an alphabet.\n",
    "\n",
    "- String of particular interest are:\n",
    "    1. **Text Strings**: Which comprise letters, numbers, and special characters.\n",
    "    2. **Bit Strings**: Which comprise 0s and 1s.\n",
    "    3. **Gene Sequences**: Which can be modeled by the four-character alphabetical {A,C,G,T}.\n",
    "- A special problem in string processing is **String Matching**. String matching is searching for a given word in a sentence. Several algorithms that exploit the special nature of this input have been developed."
   ],
   "cell_type": "markdown",
   "metadata": {}
  },
  {
   "source": [
    "## Graph Problems\n",
    "<img src=\"../Assets/Graph.png\" alt=\"Drawing\" style=\"width: 300px;\"/>\n",
    "\n",
    "A graph can be thought of as a collection of nodes (called vertices) and their connectors (called edges).\n",
    "\n",
    "- Graphs pose interesting problems because they can model a variety of applications in the real world. For example transportation, where vertices represent physical places and the edges represent routes. Other examples include communication, social and economic networks, project scheduling, and games.\n",
    "- Some basic graph algorithms:\n",
    "    - **Graph-traversal algorithms**: Which answer the question \"How can we reach all the points in a network?\"\n",
    "    - **Shortest-path algorithms**: Which answer the question \"What is the best route between two cities?\"\n",
    "    - **Topological sorting algorithms**: Which answer \"Is a set of courses with their prerequisites consistent or self-contradictory?\"\n",
    "- Some especially hard graph problems:\n",
    "    - **Traveling Salesman Problem (TSP)**: The problem of finding the shortest route through $n$ cities that visits every city exactly once.\n",
    "    <Details><Summary>Applications</Summary>\n",
    "    Some applications of this problem - other than the obvious route planning - are circuit and VLSI chip fabrication and genetic engineering.\n",
    "    - **Graph-coloring Problem**: seeks to assign the smallest number of colors to the vertices of a graph so that no two adjacent vertices are the same color.\n",
    "    <Details><Summary>Applications</Summary>\n",
    "    An example of an application is event scheduling: if the events are represented by vertices that are connected by an edge if and only if the corresponding events cannot be scheduled at the same time, a solution to the graph-coloring problem yields an optimal schedule."
   ],
   "cell_type": "markdown",
   "metadata": {}
  },
  {
   "source": [
    "## Combinatorial Problems\n",
    "\n",
    "<img src=\"../Assets/Combin.png\" alt=\"Drawing\" style=\"width: 600px;\"/>\n",
    "\n",
    "This is a broad category of problems that ask, explicitly or implicitly, to find a combinatorial object, such as a permutation, a combination or a subset of some space.\n",
    "\n",
    "- The aforementioned traveling salesman problem and the graph-colouring problems are examples of combinatorial problems.\n",
    "- Generally, these problems are the most difficult types of problems. The reasons are:\n",
    "  1. The number of combinatorial object typically grows extremely fast with the size of its input.\n",
    "  2. There are no known algorithms that solve these problems exactly in acceptable time.\n",
    "  3. Most computer scientists believe such solutions don't exist.\n",
    "- Few combinatorial problems can be solved with efficient algorithms, but they are exceptions to the rule. The shortest-path problem mentioned before is one of those exceptions."
   ],
   "cell_type": "markdown",
   "metadata": {}
  },
  {
   "source": [
    "## Geometric Problems\n",
    "<img src=\"../Assets/Geometric.png\" alt=\"Drawing\" style=\"width: 300px;\"/>\n",
    "\n",
    "These algorithms deal with geometric objects such as points, lines, and polygons.\n",
    "\n",
    "Some applications of geometric problems are computer graphics, robotics, and tomography\n",
    "\n",
    "Two classic geometric problems are:\n",
    "- **Closest-Pair Problem**: Which answers the question \"Given $n$ points in a plane, find the closest pair.\"\n",
    "- **Convex-Hull Problem**: Which asks to find the smallest convex polygon that would include all the points of a given set."
   ],
   "cell_type": "markdown",
   "metadata": {}
  },
  {
   "source": [
    "## Numerical Problems\n",
    "<img src=\"../Assets/Numerical.png\" alt=\"Drawing\" style=\"width: 300px;\"/>\n",
    "\n",
    "\n",
    "They are problems that involve mathematical objects of continues nature, such as solving equations and systems of equations, computing definite integrals, and so on.\n",
    "\n",
    "One difficulty of these problems is that real numbers in a computer can only be represented approximately. Another is the large number of real-number manipulation can lead to an accumulation of round off errors, which would distort an algorithms result."
   ],
   "cell_type": "markdown",
   "metadata": {}
  }
 ]
}