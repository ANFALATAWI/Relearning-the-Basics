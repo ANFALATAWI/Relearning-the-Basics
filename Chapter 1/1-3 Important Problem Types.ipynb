{
 "metadata": {
  "language_info": {
   "codemirror_mode": {
    "name": "ipython",
    "version": 3
   },
   "file_extension": ".py",
   "mimetype": "text/x-python",
   "name": "python",
   "nbconvert_exporter": "python",
   "pygments_lexer": "ipython3",
   "version": 3
  },
  "orig_nbformat": 2
 },
 "nbformat": 4,
 "nbformat_minor": 2,
 "cells": [
  {
   "source": [
    "# Important Problem Types\n",
    "\n",
    "_This is a summary of lesson **1.3.**_\n",
    "\n",
    "In computing, there are some especially interesting problem types:\n",
    "\n",
    "- Sorting\n",
    "- Searching\n",
    "- String Processing\n",
    "- Graph Problems\n",
    "- Cmbinatorial Problems\n",
    "- Geometric Problems\n",
    "- Numerical Problems"
   ],
   "cell_type": "markdown",
   "metadata": {}
  },
  {
   "source": [
    "## Sorting\n",
    "<img src=\"../Assets/Sorting.png\" alt=\"Drawing\" style=\"width: 400px;\"/>\n",
    "\n",
    "\n",
    "Sorting is to rearrange items of a given list, usually using a **_key_**.\n",
    "- Sorting can aid in solving other problems like searching.\n",
    "- The current best list sorting algorithm that depends on key comparisons takes $n\\  log(n)$ operations, $n$ being list size.\n",
    "- Choosing a sorting algorithm can be a complex choice. Some sorting algorithms work better on random ordered inputs, some on almost sorted inputs. Some are better suited for lists in faster meory, some are better for lists in disk memory, and so on.\n",
    "- Two important properties of Sorting Algorithms:\n",
    "    1. **Stable**: Stable sorting algorithms preserve the relative order of two equal elements in a list.\n",
    "    <details> Example: if a list containg two equal elements in positions $i$ and $j$ where $i < j$, then, in the sorted list, theire positions should remain such that $i' < j'$.\n",
    "    2. **In-place**: In-place algorithms do not require extra memory or data structures to perform the sorting."
   ],
   "cell_type": "markdown",
   "metadata": {}
  },
  {
   "source": [
    "## Searching\n",
    "<img src=\"../Assets/searching.png\" alt=\"Drawing\" style=\"width: 400px;\"/>\n",
    "\n",
    "\n",
    "Searching is to find a given value called a **_search key_** in a given set.\n",
    "\n",
    "- Searching ranges from straight forward algorithms with $n$ operations to spectacilur algorithms like the effecint Binary Search at $log(n)$ operations.\n",
    "- Like sorting, some algorithms are simple but slow, and some are fast but require sorted inputs."
   ],
   "cell_type": "markdown",
   "metadata": {}
  },
  {
   "source": [
    "## String Processing\n",
    "<img src=\"../Assets/String-processing-2.png\" alt=\"Drawing\" style=\"width: 400px;\"/>\n",
    "\n",
    "\n",
    "\n",
    "A string is a sequence of characters from an alphabet.\n",
    "\n",
    "- String of particular interest are:\n",
    "    1. **Text Strings**: Which comprise letters, numbers, and special characters.\n",
    "    2. **Bit Strings**: Which comprise 0s and 1s.\n",
    "    3. **Gene Sequences**: Which can be modeled by the four-character alphabetical {A,C,G,T}.\n",
    "- A special problem in string processing is **String Matching**. String matching is searching for a given word in a sentence. Several algorithms that exploit the special nature of this input have been developed."
   ],
   "cell_type": "markdown",
   "metadata": {}
  },
  {
   "source": [
    "## TBD"
   ],
   "cell_type": "markdown",
   "metadata": {}
  },
  {
   "cell_type": "code",
   "execution_count": null,
   "metadata": {},
   "outputs": [],
   "source": []
  }
 ]
}