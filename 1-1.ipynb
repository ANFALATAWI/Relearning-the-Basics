{
 "cells": [
  {
   "cell_type": "markdown",
   "metadata": {},
   "source": [
    "# Euclid of Alexandria\n",
    "Finding the Greatest Common Devider between two integers using Euclid's algorithm.\n",
    "\n",
    "\n",
    "### Definetion\n",
    "$$gcd(m,n) = gdc(n, m \\text{ } mod \\text{ }  n)$$\n",
    "\n",
    "### Implementation 1"
   ]
  },
  {
   "cell_type": "code",
   "execution_count": 13,
   "metadata": {},
   "outputs": [],
   "source": [
    "def gcd(m,n):\n",
    "    \"\"\"\n",
    "    Recursive algorithm that returns the Greatest Common Divider of m and n using the Euclidian defintion.\n",
    "    m: integer\n",
    "    n: integer\n",
    "    \"\"\"\n",
    "    if n == 0:\n",
    "        return m\n",
    "    else:\n",
    "        return gcd(m=n,n=m%n)"
   ]
  },
  {
   "cell_type": "markdown",
   "metadata": {},
   "source": [
    "After the implementation, let's try to test the algorithm against cases of which we know the expected output.\n",
    "For example:\n",
    "- gcd(6,4) = 2\n",
    "- gcd(60,24) = 12"
   ]
  },
  {
   "cell_type": "code",
   "execution_count": 14,
   "metadata": {},
   "outputs": [
    {
     "name": "stdout",
     "output_type": "stream",
     "text": [
      "Using GCD\n",
      "GCD of 6 and 4 is 2\n",
      "GCD of 60 and 24 is 12\n"
     ]
    }
   ],
   "source": [
    "print(\"Using GCD\")\n",
    "m = 6\n",
    "n = 4\n",
    "print(\"GCD of \" + str(m) + \" and \" + str(n) + \" is \" + str(gcd(m,n)) )\n",
    "\n",
    "m = 60\n",
    "n = 24\n",
    "print(\"GCD of \" + str(m) + \" and \" + str(n) + \" is \" + str(gcd(m,n)) )"
   ]
  },
  {
   "cell_type": "markdown",
   "metadata": {},
   "source": [
    "I implemented the above algorithm in a recursive way, which means an algorithm that calls itself. There is contreversy in using recursion in practice, because it might not read well. However, I really like [this](https://www.youtube.com/watch?v=8lhxIOAfDss) video by Computerphile on the beauty of recursion.\n",
    "\n",
    "Let's implement gcd again using loops:"
   ]
  },
  {
   "cell_type": "code",
   "execution_count": 15,
   "metadata": {},
   "outputs": [],
   "source": [
    "def gcd_loop(m,n):\n",
    "    \"\"\"\n",
    "    Algorithm that returns the Greatest Common Divider of m and n using the Euclidian defintion.\n",
    "    m: integer\n",
    "    n: integer\n",
    "    \"\"\"\n",
    "    while n != 0:\n",
    "        r = n\n",
    "        n = m%n\n",
    "        m = r\n",
    "    return m"
   ]
  },
  {
   "cell_type": "markdown",
   "metadata": {},
   "source": [
    "Boring, but functions the same:"
   ]
  },
  {
   "cell_type": "code",
   "execution_count": 16,
   "metadata": {},
   "outputs": [
    {
     "name": "stdout",
     "output_type": "stream",
     "text": [
      "Using GCD_loop\n",
      "GCD of 6 and 4 is 2\n",
      "GCD of 60 and 24 is 12\n"
     ]
    }
   ],
   "source": [
    "print(\"Using GCD_loop\")\n",
    "m = 6\n",
    "n = 4\n",
    "print(\"GCD of \" + str(m) + \" and \" + str(n) + \" is \" + str(gcd_loop(m,n)) )\n",
    "\n",
    "m = 60\n",
    "n = 24\n",
    "print(\"GCD of \" + str(m) + \" and \" + str(n) + \" is \" + str(gcd_loop(m,n)) )"
   ]
  },
  {
   "cell_type": "markdown",
   "metadata": {},
   "source": [
    "## Testing different cases of input\n",
    "Now, what happens if we switch betwen $m$ & $n$ inputs?"
   ]
  },
  {
   "cell_type": "code",
   "execution_count": 17,
   "metadata": {},
   "outputs": [
    {
     "name": "stdout",
     "output_type": "stream",
     "text": [
      "Using GCD_loop, checking if switching between m & n produces different results?\n",
      "GCD of 60 and 24 respectivly is 12\n",
      "GCD of 24 and 60 respectivly is 12\n"
     ]
    }
   ],
   "source": [
    "print(\"Using GCD_loop, checking if switching between m & n produces different results?\")\n",
    "m = 60\n",
    "n = 24\n",
    "print(\"GCD of \" + str(m) + \" and \" + str(n) + \" respectivly is \" + str(gcd_loop(m,n)) )\n",
    "\n",
    "m = 24\n",
    "n = 60\n",
    "print(\"GCD of \" + str(m) + \" and \" + str(n) + \" respectivly is \" + str(gcd_loop(m,n)) )"
   ]
  },
  {
   "cell_type": "markdown",
   "metadata": {},
   "source": [
    "How is that? in the algorithm, there is a difference between m & n. The order of which they are fed into the algorihm matters (otherwise, the variables would have been named n1 & n2). How does the algorithm operate successfully even when breaking the assumption that $m > n$ ?\n",
    "\n",
    "Let's invistegate."
   ]
  },
  {
   "cell_type": "markdown",
   "metadata": {},
   "source": [
    "After tracing the algorithm by hand for small examples of m & n, I reached a conclusion. Let's show it in how the algorithm operates.\n",
    "For demonstartion purposes, I'll use the loop implementation. Let's calculates how many times the algorithm loops. This is done by adding a simple counter to the loop then printing it."
   ]
  },
  {
   "cell_type": "code",
   "execution_count": 18,
   "metadata": {},
   "outputs": [],
   "source": [
    "def gcd_loop_counter(m,n):\n",
    "    \"\"\"\n",
    "    Algorithm that returns the Greatest Common Divider of m and n using the Euclidian defintion and print iteration count.\n",
    "    m: integer\n",
    "    n: integer\n",
    "    \"\"\"\n",
    "    counter = 0\n",
    "    while n != 0:\n",
    "        r = n\n",
    "        n = m%n\n",
    "        m = r\n",
    "\n",
    "        print(\"At iteration #\" + str(counter) + \" m=\" + str(m) + \" n=\" + str(n))\n",
    "        counter = counter + 1\n",
    "    print(\">>The GCD loop ran \" + str(counter) + \" times.\")\n",
    "    return m"
   ]
  },
  {
   "cell_type": "code",
   "execution_count": 19,
   "metadata": {},
   "outputs": [
    {
     "name": "stdout",
     "output_type": "stream",
     "text": [
      "Using GCD_loop_counter, checking if switching between m & n produces different results?\n",
      "At iteration #0 m=24 n=12\n",
      "At iteration #1 m=12 n=0\n",
      ">>The GCD loop ran 2 times.\n",
      "GCD of 60 and 24 respectivly is 12\n",
      "\n",
      "At iteration #0 m=60 n=24\n",
      "At iteration #1 m=24 n=12\n",
      "At iteration #2 m=12 n=0\n",
      ">>The GCD loop ran 3 times.\n",
      "GCD of 24 and 60 respectivly is 12\n"
     ]
    }
   ],
   "source": [
    "print(\"Using GCD_loop_counter, checking if switching between m & n produces different results?\")\n",
    "m = 60\n",
    "n = 24\n",
    "print(\"GCD of \" + str(m) + \" and \" + str(n) + \" respectivly is \" + str(gcd_loop_counter(m,n)) )\n",
    "print(\"\")\n",
    "\n",
    "m = 24\n",
    "n = 60\n",
    "print(\"GCD of \" + str(m) + \" and \" + str(n) + \" respectivly is \" + str(gcd_loop_counter(m,n)) )"
   ]
  },
  {
   "cell_type": "markdown",
   "metadata": {},
   "source": [
    "Ah! look at the number of times each loop ran. It looks that when switching between m & n, the algorithm takes the first pass to correct that. A truly genuis algorithm.\n"
   ]
  },
  {
   "cell_type": "markdown",
   "metadata": {},
   "source": [
    "## Supplemental Material\n",
    "Regular (elementary school) method to finding the greatest common divider\n",
    "# Definetion\n",
    "1. Find prime factors of $m$\n",
    "2. Find prime factors of $n$\n",
    "3. Identify all common factors found in prime expansions in steps 1 & 2.\n",
    "4. Compute the product of all commomn factors and return it as the gcd.\n",
    "\n",
    "### Implementation\n",
    "First, let's write a method to extract prime numbers not largen than an int n"
   ]
  },
  {
   "cell_type": "markdown",
   "metadata": {},
   "source": [
    "## Seive of Eratosthenes\n"
   ]
  },
  {
   "cell_type": "code",
   "execution_count": 20,
   "metadata": {},
   "outputs": [],
   "source": [
    "import math\n",
    "def Seive_of_Eratosthenes(n):\n",
    "    \"\"\"\n",
    "    Implements Seive of Erasthones to find prime numbers up to n\n",
    "    Args:\n",
    "        n : positive integer > 1\n",
    "    Returns:\n",
    "        Array of all prime numbers less than or equal to n\n",
    "    \"\"\"\n",
    "    # Create an empty array of length n\n",
    "    A = [0] * n\n",
    "    # Fill array with values from 1 to n\n",
    "    for i in range(n):\n",
    "        A[i] = i+1 # Start at known prime number 2\n",
    "    # Set a limit to check for prime numbers\n",
    "    limit = math.floor(math.sqrt(n))\n",
    "    # Start eliminating non-prime numbers\n",
    "    for i in range(1,len(A)):\n",
    "        # i is an index for A\n",
    "        for j in range(i+1, len(A)):\n",
    "            if A[i] == 0: # if we are at the limit or element is elimenated\n",
    "                continue\n",
    "            if (A[j] % A[i]) == 0: # if element is divisible by a prime\n",
    "                A[j] = 0 # Set element to 'elimenated'\n",
    "    return A"
   ]
  },
  {
   "cell_type": "code",
   "execution_count": 21,
   "metadata": {},
   "outputs": [
    {
     "data": {
      "text/plain": [
       "[1,\n",
       " 2,\n",
       " 3,\n",
       " 0,\n",
       " 5,\n",
       " 0,\n",
       " 7,\n",
       " 0,\n",
       " 0,\n",
       " 0,\n",
       " 11,\n",
       " 0,\n",
       " 13,\n",
       " 0,\n",
       " 0,\n",
       " 0,\n",
       " 17,\n",
       " 0,\n",
       " 19,\n",
       " 0,\n",
       " 0,\n",
       " 0,\n",
       " 23,\n",
       " 0,\n",
       " 0]"
      ]
     },
     "execution_count": 21,
     "metadata": {},
     "output_type": "execute_result"
    }
   ],
   "source": [
    "Seive_of_Eratosthenes(25)"
   ]
  },
  {
   "cell_type": "code",
   "execution_count": 22,
   "metadata": {},
   "outputs": [
    {
     "data": {
      "text/plain": [
       "[1, 2, 3, 0, 5, 0, 7, 0, 0, 0, 11, 0, 13, 0, 0, 0, 17, 0, 19, 0, 0, 0, 23, 0]"
      ]
     },
     "execution_count": 22,
     "metadata": {},
     "output_type": "execute_result"
    }
   ],
   "source": [
    "Seive_of_Eratosthenes(24)"
   ]
  },
  {
   "cell_type": "code",
   "execution_count": 23,
   "metadata": {},
   "outputs": [
    {
     "data": {
      "text/plain": [
       "[1, 2, 3, 0, 5]"
      ]
     },
     "execution_count": 23,
     "metadata": {},
     "output_type": "execute_result"
    }
   ],
   "source": [
    "Seive_of_Eratosthenes(5)"
   ]
  }
 ],
 "metadata": {
  "kernelspec": {
   "display_name": "Python 3",
   "language": "python",
   "name": "python3"
  },
  "language_info": {
   "codemirror_mode": {
    "name": "ipython",
    "version": 3
   },
   "file_extension": ".py",
   "mimetype": "text/x-python",
   "name": "python",
   "nbconvert_exporter": "python",
   "pygments_lexer": "ipython3",
   "version": "3.9.2"
  }
 },
 "nbformat": 4,
 "nbformat_minor": 2
}
