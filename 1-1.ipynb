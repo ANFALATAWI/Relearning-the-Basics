{
 "metadata": {
  "language_info": {
   "codemirror_mode": {
    "name": "ipython",
    "version": 3
   },
   "file_extension": ".py",
   "mimetype": "text/x-python",
   "name": "python",
   "nbconvert_exporter": "python",
   "pygments_lexer": "ipython3",
   "version": "3.8.5-final"
  },
  "orig_nbformat": 2,
  "kernelspec": {
   "name": "python385jvsc74a57bd036c5213f13ec082458e842d6796e9a3431b886a2d30ddb62bedc9888415e454c",
   "display_name": "Python 3.8.5 64-bit ('base': conda)"
  }
 },
 "nbformat": 4,
 "nbformat_minor": 2,
 "cells": [
  {
   "source": [
    "#"
   ],
   "cell_type": "markdown",
   "metadata": {}
  },
  {
   "source": [
    "# Euclid of Alexandria\n",
    "Finding the Greatest Common Devider between two integers using Euclid's algorithm.\n",
    "\n",
    "\n",
    "The algorithm's definition reads $gcd(m,n) = gdc(n, m  mod   n)$"
   ],
   "cell_type": "markdown",
   "metadata": {}
  },
  {
   "cell_type": "code",
   "execution_count": 3,
   "metadata": {},
   "outputs": [],
   "source": [
    "def gcd(m,n):\n",
    "    \"\"\"\n",
    "    Recursive algorithm that returns the Greatest Common Divider of m and n using the Euclidian defintion.\n",
    "    m: integer\n",
    "    n: integer\n",
    "    \"\"\"\n",
    "    if n == 0:\n",
    "        return m\n",
    "    else:\n",
    "        return gcd(m=n,n=m%n)"
   ]
  },
  {
   "source": [
    "Test the algorithm:"
   ],
   "cell_type": "markdown",
   "metadata": {}
  },
  {
   "cell_type": "code",
   "execution_count": 24,
   "metadata": {},
   "outputs": [
    {
     "output_type": "stream",
     "name": "stdout",
     "text": [
      "Using GCD\nGCD of 6 and 4 is 2\nGCD of 60 and 24 is 12\n"
     ]
    }
   ],
   "source": [
    "print(\"Using GCD\")\n",
    "m = 6\n",
    "n = 4\n",
    "print(\"GCD of \" + str(m) + \" and \" + str(n) + \" is \" + str(gcd(m,n)) )\n",
    "\n",
    "m = 60\n",
    "n = 24\n",
    "print(\"GCD of \" + str(m) + \" and \" + str(n) + \" is \" + str(gcd(m,n)) )"
   ]
  },
  {
   "source": [
    "I implemented the above algorithm in a recursive way, which means an algorithm that calls itself. There is contreversy in using recursion in practice, because it might not read well. However, I really like [this](https://www.youtube.com/watch?v=8lhxIOAfDss) video by Computerphile on the beauty of recursion.\n",
    "\n",
    "Let's implement it using loops:"
   ],
   "cell_type": "markdown",
   "metadata": {}
  },
  {
   "cell_type": "code",
   "execution_count": 16,
   "metadata": {},
   "outputs": [],
   "source": [
    "def gcd_loop(m,n):\n",
    "    \"\"\"\n",
    "    Algorithm that returns the Greatest Common Divider of m and n using the Euclidian defintion.\n",
    "    m: integer\n",
    "    n: integer\n",
    "    \"\"\"\n",
    "    while n != 0:\n",
    "        r = n\n",
    "        n = m%n\n",
    "        m = r\n",
    "    return m"
   ]
  },
  {
   "source": [
    "Boring, but functions the same:"
   ],
   "cell_type": "markdown",
   "metadata": {}
  },
  {
   "cell_type": "code",
   "execution_count": 25,
   "metadata": {},
   "outputs": [
    {
     "output_type": "stream",
     "name": "stdout",
     "text": [
      "Using GCD_loop\nGCD of 6 and 4 is 2\nGCD of 60 and 24 is 12\n"
     ]
    }
   ],
   "source": [
    "print(\"Using GCD_loop\")\n",
    "m = 6\n",
    "n = 4\n",
    "print(\"GCD of \" + str(m) + \" and \" + str(n) + \" is \" + str(gcd_loop(m,n)) )\n",
    "\n",
    "m = 60\n",
    "n = 24\n",
    "print(\"GCD of \" + str(m) + \" and \" + str(n) + \" is \" + str(gcd_loop(m,n)) )"
   ]
  },
  {
   "source": [
    "## Testing different cases of input\n",
    "Now, what happens if we switch betwen inputs?"
   ],
   "cell_type": "markdown",
   "metadata": {}
  },
  {
   "cell_type": "code",
   "execution_count": 28,
   "metadata": {},
   "outputs": [
    {
     "output_type": "stream",
     "name": "stdout",
     "text": [
      "Using GCD_loop, checking if switching between m & n produces different results?\nGCD of 60 and 24 respectivly is 12\nGCD of 24 and 60 respectivly is 12\n"
     ]
    }
   ],
   "source": [
    "print(\"Using GCD_loop, checking if switching between m & n produces different results?\")\n",
    "m = 60\n",
    "n = 24\n",
    "print(\"GCD of \" + str(m) + \" and \" + str(n) + \" respectivly is \" + str(gcd_loop(m,n)) )\n",
    "\n",
    "m = 24\n",
    "n = 60\n",
    "print(\"GCD of \" + str(m) + \" and \" + str(n) + \" respectivly is \" + str(gcd_loop(m,n)) )"
   ]
  },
  {
   "source": [
    "How is that? in the algorithm, there is a difference between m & n. The order of which they are fed into the algorihm matters (otherwise, the variables would have been names n & n). How does the algorithm operate successfully even when breaking the assumption that $m > n$ ?\n",
    "\n",
    "Let's invistegate."
   ],
   "cell_type": "markdown",
   "metadata": {}
  },
  {
   "source": [
    "After tracing the algorithm by hand for small examples of m & n, I reached a conclusion. Let's show it in how the algorithm operates.\n",
    "For demonstartion purposes, I'll use the loop implementation. Let's calculates how many times the algorithm loops. This is done by adding a simple counter to the loop then printing it."
   ],
   "cell_type": "markdown",
   "metadata": {}
  },
  {
   "cell_type": "code",
   "execution_count": 36,
   "metadata": {},
   "outputs": [],
   "source": [
    "def gcd_loop_counter(m,n):\n",
    "    \"\"\"\n",
    "    Algorithm that returns the Greatest Common Divider of m and n using the Euclidian defintion.\n",
    "    m: integer\n",
    "    n: integer\n",
    "    \"\"\"\n",
    "    counter = 0\n",
    "    while n != 0:\n",
    "        r = n\n",
    "        n = m%n\n",
    "        m = r\n",
    "\n",
    "        print(\"At iteration #\" + str(counter) + \" m=\" + str(m) + \" n=\" + str(n))\n",
    "        counter = counter + 1\n",
    "    print(\">>The GCD loop ran \" + str(counter) + \" times.\")\n",
    "    return m"
   ]
  },
  {
   "cell_type": "code",
   "execution_count": 38,
   "metadata": {},
   "outputs": [
    {
     "output_type": "stream",
     "name": "stdout",
     "text": [
      "Using GCD_loop_counter, checking if switching between m & n produces different results?\nAt iteration #0 m=24 n=12\nAt iteration #1 m=12 n=0\n>>The GCD loop ran 2 times.\nGCD of 60 and 24 respectivly is 12\n\nAt iteration #0 m=60 n=24\nAt iteration #1 m=24 n=12\nAt iteration #2 m=12 n=0\n>>The GCD loop ran 3 times.\nGCD of 24 and 60 respectivly is 12\n"
     ]
    }
   ],
   "source": [
    "print(\"Using GCD_loop_counter, checking if switching between m & n produces different results?\")\n",
    "m = 60\n",
    "n = 24\n",
    "print(\"GCD of \" + str(m) + \" and \" + str(n) + \" respectivly is \" + str(gcd_loop_counter(m,n)) )\n",
    "print(\"\")\n",
    "\n",
    "m = 24\n",
    "n = 60\n",
    "print(\"GCD of \" + str(m) + \" and \" + str(n) + \" respectivly is \" + str(gcd_loop_counter(m,n)) )"
   ]
  },
  {
   "source": [
    "Ah! look at the number of times each loop ran. It looks that when switching between m & n, the algorithm takes the first pass to correct that. A truly genuis algorithm.\n"
   ],
   "cell_type": "markdown",
   "metadata": {}
  },
  {
   "cell_type": "code",
   "execution_count": 39,
   "metadata": {},
   "outputs": [
    {
     "output_type": "stream",
     "name": "stdout",
     "text": [
      "At iteration #0 m=6 n=5\nAt iteration #1 m=5 n=1\nAt iteration #2 m=1 n=0\n>>The GCD loop ran 3 times.\n1\n"
     ]
    }
   ],
   "source": [
    "print(gcd_loop_counter(5,6))"
   ]
  },
  {
   "source": [
    "### Supplemental Material\n",
    "Regular (elementary school) method to finding the greatest common divider"
   ],
   "cell_type": "markdown",
   "metadata": {}
  },
  {
   "source": [
    "Step 1: Find prime numbers of a given int"
   ],
   "cell_type": "markdown",
   "metadata": {}
  },
  {
   "cell_type": "code",
   "execution_count": 119,
   "metadata": {},
   "outputs": [],
   "source": [
    "import math\n",
    "def Seive_of_Erasthones(n):\n",
    "    \"\"\"\n",
    "    Implements Seive of Erasthones to find prime number less than n\n",
    "    n : integer\n",
    "    \"\"\"\n",
    "    # Create an empty array of length n\n",
    "    A = [0] * n\n",
    "    # Fill array with values from 1 to n\n",
    "    for i in range(n):\n",
    "        A[i] = i+1\n",
    "    # Set a limit to check for prime numbers\n",
    "    limit = math.floor(math.sqrt(n))\n",
    "    # Start eliminating non-prime numbers\n",
    "    for i in range(1,len(A)):\n",
    "        # i is an index for A\n",
    "        for j in range(i+1, len(A) - 1):\n",
    "            if A[i] >= limit or A[i] == 0: # if we are at the limit or element is elimenated\n",
    "                continue\n",
    "            if (A[j] % A[i]) == 0:\n",
    "                A[j] = 0 # Set element to 'elimenated'\n",
    "    return A"
   ]
  },
  {
   "cell_type": "code",
   "execution_count": 120,
   "metadata": {},
   "outputs": [
    {
     "output_type": "execute_result",
     "data": {
      "text/plain": [
       "[1,\n",
       " 2,\n",
       " 3,\n",
       " 0,\n",
       " 5,\n",
       " 0,\n",
       " 7,\n",
       " 0,\n",
       " 0,\n",
       " 0,\n",
       " 11,\n",
       " 0,\n",
       " 13,\n",
       " 0,\n",
       " 0,\n",
       " 0,\n",
       " 17,\n",
       " 0,\n",
       " 19,\n",
       " 0,\n",
       " 0,\n",
       " 0,\n",
       " 23,\n",
       " 0,\n",
       " 25]"
      ]
     },
     "metadata": {},
     "execution_count": 120
    }
   ],
   "source": [
    "Seive_of_Erasthones(25)"
   ]
  },
  {
   "cell_type": "code",
   "execution_count": null,
   "metadata": {},
   "outputs": [],
   "source": []
  }
 ]
}